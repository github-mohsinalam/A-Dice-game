{
  "nbformat": 4,
  "nbformat_minor": 0,
  "metadata": {
    "colab": {
      "name": "Project : Dice Game.ipynb",
      "provenance": [],
      "collapsed_sections": [],
      "toc_visible": true,
      "authorship_tag": "ABX9TyPnv4d2ezF8kQg8IA1XCdgz",
      "include_colab_link": true
    },
    "kernelspec": {
      "name": "python3",
      "display_name": "Python 3"
    },
    "language_info": {
      "name": "python"
    }
  },
  "cells": [
    {
      "cell_type": "markdown",
      "metadata": {
        "id": "view-in-github",
        "colab_type": "text"
      },
      "source": [
        "<a href=\"https://colab.research.google.com/github/github-mohsinalam/A-Dice-game/blob/main/Project_Dice_Game.ipynb\" target=\"_parent\"><img src=\"https://colab.research.google.com/assets/colab-badge.svg\" alt=\"Open In Colab\"/></a>"
      ]
    },
    {
      "cell_type": "markdown",
      "metadata": {
        "id": "Uu38aer5-8JQ"
      },
      "source": [
        "# Project : Dice Game"
      ]
    },
    {
      "cell_type": "markdown",
      "metadata": {
        "id": "b4C6tqpwQwsK"
      },
      "source": [
        "## Project Overview"
      ]
    },
    {
      "cell_type": "markdown",
      "metadata": {
        "id": "1G-o8ebHQ23h"
      },
      "source": [
        "In this series of three programming tasks, we will implement together a program that will play optimally in a tricky dice game! You program will be given a list of dices and will decide who chooses the dice first (you or your opponent).\n",
        "\n",
        "When the dices are chosen, we will simulate 10000 throws. Each time your number is greater, you get \\$1 from your opponent. Conversely, each time your number is smaller, you pay \\$1 to your opponent.\n",
        "\n",
        "Your ultimate goal is to implement a program that always wins in such a simulation.\n",
        "\n"
      ]
    },
    {
      "cell_type": "markdown",
      "metadata": {
        "id": "aROqNL09DHLn"
      },
      "source": [
        "## First Task : Compare Two Dices"
      ]
    },
    {
      "cell_type": "markdown",
      "metadata": {
        "id": "YwDUmkXeDba7"
      },
      "source": [
        "Implement a function that takes two dices as input and computes two values: the first value is the number of times the first dice wins (out of all possible 36 choices), the second value is the number of times the second dice wins. We say that a dice wins if the number on it is greater than the number on the other dice."
      ]
    },
    {
      "cell_type": "code",
      "metadata": {
        "id": "OKaveCseRXPR"
      },
      "source": [
        "from itertools import product , combinations"
      ],
      "execution_count": 1,
      "outputs": []
    },
    {
      "cell_type": "code",
      "metadata": {
        "id": "BUSoe1ao_KwI"
      },
      "source": [
        "def count_wins(dice1, dice2):\n",
        "    assert len(dice1) == 6 and len(dice2) == 6\n",
        "    dice1_wins, dice2_wins = 0, 0\n",
        "    for tup in product(dice1 , dice2):\n",
        "      if tup[0] > tup[1]:\n",
        "        dice1_wins +=1\n",
        "      elif tup[1] > tup[0]:\n",
        "        dice2_wins +=1\n",
        "\n",
        "    return (dice1_wins, dice2_wins)"
      ],
      "execution_count": 2,
      "outputs": []
    },
    {
      "cell_type": "code",
      "metadata": {
        "colab": {
          "base_uri": "https://localhost:8080/"
        },
        "id": "6X5C45vrBIe3",
        "outputId": "8af2bfe7-d258-4df2-84b2-cb1eec761d0d"
      },
      "source": [
        "#checking count_wins\n",
        "count_wins([1, 2, 3, 4, 5, 6], [1, 2, 3, 4, 5, 6])"
      ],
      "execution_count": 3,
      "outputs": [
        {
          "output_type": "execute_result",
          "data": {
            "text/plain": [
              "(15, 15)"
            ]
          },
          "metadata": {
            "tags": []
          },
          "execution_count": 3
        }
      ]
    },
    {
      "cell_type": "code",
      "metadata": {
        "colab": {
          "base_uri": "https://localhost:8080/"
        },
        "id": "TLVDzlc3BhQF",
        "outputId": "a454d668-1237-4ee0-df51-359f0fdb4b11"
      },
      "source": [
        "#checking count_wins\n",
        "count_wins(dice1 = [1, 1, 6, 6, 8, 8], dice2 = [2, 2, 4, 4, 9, 9])"
      ],
      "execution_count": 4,
      "outputs": [
        {
          "output_type": "execute_result",
          "data": {
            "text/plain": [
              "(16, 20)"
            ]
          },
          "metadata": {
            "tags": []
          },
          "execution_count": 4
        }
      ]
    },
    {
      "cell_type": "markdown",
      "metadata": {
        "id": "9emcQqdjDl3g"
      },
      "source": [
        "## Second Task : Is there the best Dice ? "
      ]
    },
    {
      "cell_type": "markdown",
      "metadata": {
        "id": "O2xd7d8cD_Ns"
      },
      "source": [
        "Now, your goal is to check whether among the three given dices there is one that is better than the remaining two dices.\n",
        "\n",
        "Implement a function that takes a list of dices and checks whether there is dice (in this list) that is better than all other dices. We say that a dice is better than another one, if it wins more frequently (that is, out of all 36 possibilities, it wins in **a** cases, while the second one wins in **b** cases, and **a**>**b**). If there is such a dice, return its (0-based) index. Otherwise, return -1.\n",
        "\n"
      ]
    },
    {
      "cell_type": "code",
      "metadata": {
        "id": "ObGAq-Q_D1ot"
      },
      "source": [
        "def find_the_best_dice(dices):\n",
        "    assert all(len(dice) == 6 for dice in dices)\n",
        "  \n",
        "    for i in range(len(dices)):\n",
        "      res = []\n",
        "      for j in range(len(dices)):\n",
        "        if i == j : continue\n",
        "        dice_i_score , dice_j_score = count_wins(dices[i] , dices[j])\n",
        "        if dice_i_score > dice_j_score :\n",
        "          res.append(1)\n",
        "      if res.count(1) == len(dices) - 1 : return i\n",
        "    return -1"
      ],
      "execution_count": 5,
      "outputs": []
    },
    {
      "cell_type": "code",
      "metadata": {
        "colab": {
          "base_uri": "https://localhost:8080/"
        },
        "id": "7z7aQxpVniPG",
        "outputId": "1ebd6387-83b6-4498-b888-664690f10573"
      },
      "source": [
        "find_the_best_dice([[1, 1, 6, 6, 8, 8], [2, 2, 4, 4, 9, 9], [3, 3, 5, 5, 7, 7]])\n"
      ],
      "execution_count": 6,
      "outputs": [
        {
          "output_type": "execute_result",
          "data": {
            "text/plain": [
              "-1"
            ]
          },
          "metadata": {
            "tags": []
          },
          "execution_count": 6
        }
      ]
    },
    {
      "cell_type": "code",
      "metadata": {
        "colab": {
          "base_uri": "https://localhost:8080/"
        },
        "id": "sIT3Ko5gn4vP",
        "outputId": "6625ec74-03cd-4dc8-a84d-9829fdc1be46"
      },
      "source": [
        "find_the_best_dice([[1, 1, 2, 4, 5, 7], [1, 2, 2, 3, 4, 7], [1, 2, 3, 4, 5, 6]])"
      ],
      "execution_count": 7,
      "outputs": [
        {
          "output_type": "execute_result",
          "data": {
            "text/plain": [
              "2"
            ]
          },
          "metadata": {
            "tags": []
          },
          "execution_count": 7
        }
      ]
    },
    {
      "cell_type": "code",
      "metadata": {
        "colab": {
          "base_uri": "https://localhost:8080/"
        },
        "id": "Xl6hUZpvoB7b",
        "outputId": "1f3a1730-8f3d-4ca6-b1cc-8cecfe63525e"
      },
      "source": [
        "find_the_best_dice([[3, 3, 3, 3, 3, 3], [6, 6, 2, 2, 2,\n",
        "                          2], [4, 4, 4, 4, 0, 0], [5, 5, 5, 1, 1, 1]])"
      ],
      "execution_count": 8,
      "outputs": [
        {
          "output_type": "execute_result",
          "data": {
            "text/plain": [
              "-1"
            ]
          },
          "metadata": {
            "tags": []
          },
          "execution_count": 8
        }
      ]
    },
    {
      "cell_type": "code",
      "metadata": {
        "colab": {
          "base_uri": "https://localhost:8080/"
        },
        "id": "as-1tmDRZ5XR",
        "outputId": "04eb17ce-6a9d-453d-8744-de57a0086da6"
      },
      "source": [
        "find_the_best_dice([[4, 4, 4, 4, 0, 0], [7, 7, 3, 3, 3, 3], [6, 6, 2, 2, 2, 2], [5, 5, 5, 1, 1, 1]])"
      ],
      "execution_count": 9,
      "outputs": [
        {
          "output_type": "execute_result",
          "data": {
            "text/plain": [
              "1"
            ]
          },
          "metadata": {
            "tags": []
          },
          "execution_count": 9
        }
      ]
    },
    {
      "cell_type": "markdown",
      "metadata": {
        "id": "gj5kFct7zZfm"
      },
      "source": [
        "## Third task : Implement a Strategy"
      ]
    },
    {
      "cell_type": "markdown",
      "metadata": {
        "id": "e0u_zZHMRdj2"
      },
      "source": [
        "You are now ready to play! \n",
        "\n",
        "Implement a function that takes a list of dices (possibly more than three) and returns a strategy. The strategy is a dictionary:\n",
        "\n",
        "If, after analyzing the given list of dices, you decide to choose a dice first, set strategy[\"choose_first\"] to True and set strategy[\"first_dice\"] to be the (0-based) index of the dice you would like to choose\n",
        "\n",
        "If you would like to be the second one to choose a dice, set strategy[\"choose_first\"] to False. Then, specify, for each dice that your opponent may take, the dice that you would take in return. Namely, for each i from 0 to len(dices)-1, set strategy[i] to an index j of the dice that you would take if the opponent takes the i-th dice first.\n",
        "\n"
      ]
    },
    {
      "cell_type": "code",
      "metadata": {
        "id": "WKrT2LQczoCv"
      },
      "source": [
        "def compute_strategy(dices):\n",
        "    assert all(len(dice) == 6 for dice in dices)\n",
        "\n",
        "    if find_the_best_dice(dices) != -1 :\n",
        "      strategy = {\"choose_first\" : True , \"first_dice\" : find_the_best_dice(dices)}\n",
        "    else :\n",
        "      strategy = dict()\n",
        "      for i in range(len(dices)):\n",
        "         for j in range(len(dices)):\n",
        "           if i == j : continue\n",
        "           dice_i_score , dice_j_score = count_wins(dices[i] , dices[j])\n",
        "           if dice_i_score > dice_j_score :\n",
        "             strategy[j] = i \n",
        "           elif dice_i_score < dice_j_score :\n",
        "             strategy[i] = j\n",
        "      \n",
        "      strategy[\"choose_first\"] = False\n",
        "    return strategy \n"
      ],
      "execution_count": 10,
      "outputs": []
    },
    {
      "cell_type": "code",
      "metadata": {
        "colab": {
          "base_uri": "https://localhost:8080/"
        },
        "id": "kWvio1JYdCiV",
        "outputId": "9b30d5ab-c9d9-4c7d-e7de-913c348e4b6d"
      },
      "source": [
        "compute_strategy([[1, 1, 4, 6, 7, 8], [2, 2, 2, 6, 7, 7], [3, 3, 3, 5, 5, 8]])"
      ],
      "execution_count": 11,
      "outputs": [
        {
          "output_type": "execute_result",
          "data": {
            "text/plain": [
              "{0: 1, 1: 2, 2: 0, 'choose_first': False}"
            ]
          },
          "metadata": {
            "tags": []
          },
          "execution_count": 11
        }
      ]
    },
    {
      "cell_type": "code",
      "metadata": {
        "colab": {
          "base_uri": "https://localhost:8080/"
        },
        "id": "JCub9O1hdRCB",
        "outputId": "16fde4aa-66fa-4dcd-b9a5-c9f0edeb4ea8"
      },
      "source": [
        "compute_strategy([[4, 4, 4, 4, 0, 0], [7, 7, 3, 3, 3, 3], [6, 6, 2, 2, 2, 2], [5, 5, 5, 1, 1, 1]]\n",
        "\n",
        ")"
      ],
      "execution_count": 12,
      "outputs": [
        {
          "output_type": "execute_result",
          "data": {
            "text/plain": [
              "{'choose_first': True, 'first_dice': 1}"
            ]
          },
          "metadata": {
            "tags": []
          },
          "execution_count": 12
        }
      ]
    }
  ]
}